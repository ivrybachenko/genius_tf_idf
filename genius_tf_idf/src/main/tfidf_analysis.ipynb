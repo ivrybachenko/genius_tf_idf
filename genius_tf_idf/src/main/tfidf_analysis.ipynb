{
 "cells": [
  {
   "cell_type": "markdown",
   "metadata": {
    "pycharm": {
     "name": "#%% md\n"
    }
   },
   "source": [
    "# Read the data"
   ]
  },
  {
   "cell_type": "code",
   "execution_count": 1,
   "metadata": {
    "pycharm": {
     "name": "#%%\n"
    }
   },
   "outputs": [
    {
     "data": {
      "text/html": [
       "<div>\n",
       "<style scoped>\n",
       "    .dataframe tbody tr th:only-of-type {\n",
       "        vertical-align: middle;\n",
       "    }\n",
       "\n",
       "    .dataframe tbody tr th {\n",
       "        vertical-align: top;\n",
       "    }\n",
       "\n",
       "    .dataframe thead th {\n",
       "        text-align: right;\n",
       "    }\n",
       "</style>\n",
       "<table border=\"1\" class=\"dataframe\">\n",
       "  <thead>\n",
       "    <tr style=\"text-align: right;\">\n",
       "      <th></th>\n",
       "      <th>artist</th>\n",
       "      <th>lyrics</th>\n",
       "      <th>name</th>\n",
       "    </tr>\n",
       "  </thead>\n",
       "  <tbody>\n",
       "    <tr>\n",
       "      <th>0</th>\n",
       "      <td>Trent Tomlinson</td>\n",
       "      <td>It was perfect timin'\\nBoth of us findin' what...</td>\n",
       "      <td>A Good Run by Trent Tomlinson</td>\n",
       "    </tr>\n",
       "    <tr>\n",
       "      <th>1</th>\n",
       "      <td>Trent Tomlinson</td>\n",
       "      <td>Twenty-five just yesterday\\nPartied too hard, ...</td>\n",
       "      <td>A Man Without A Woman by Trent Tomlinson</td>\n",
       "    </tr>\n",
       "    <tr>\n",
       "      <th>2</th>\n",
       "      <td>Trent Tomlinson</td>\n",
       "      <td>The sunbeam hit the Jim Beam\\nAnd ricocheted o...</td>\n",
       "      <td>Angels Like Her by Trent Tomlinson</td>\n",
       "    </tr>\n",
       "    <tr>\n",
       "      <th>3</th>\n",
       "      <td>Trent Tomlinson</td>\n",
       "      <td>I still show up at five\\nLet everybody know I'...</td>\n",
       "      <td>Cheatin On My Honky-Tonk by Trent Tomlinson</td>\n",
       "    </tr>\n",
       "    <tr>\n",
       "      <th>4</th>\n",
       "      <td>Trent Tomlinson</td>\n",
       "      <td>Baby I don't care that your hair is soakin' we...</td>\n",
       "      <td>Come back to bed by Trent Tomlinson</td>\n",
       "    </tr>\n",
       "  </tbody>\n",
       "</table>\n",
       "</div>"
      ],
      "text/plain": [
       "            artist                                             lyrics  \\\n",
       "0  Trent Tomlinson  It was perfect timin'\\nBoth of us findin' what...   \n",
       "1  Trent Tomlinson  Twenty-five just yesterday\\nPartied too hard, ...   \n",
       "2  Trent Tomlinson  The sunbeam hit the Jim Beam\\nAnd ricocheted o...   \n",
       "3  Trent Tomlinson  I still show up at five\\nLet everybody know I'...   \n",
       "4  Trent Tomlinson  Baby I don't care that your hair is soakin' we...   \n",
       "\n",
       "                                          name  \n",
       "0                A Good Run by Trent Tomlinson  \n",
       "1     A Man Without A Woman by Trent Tomlinson  \n",
       "2           Angels Like Her by Trent Tomlinson  \n",
       "3  Cheatin On My Honky-Tonk by Trent Tomlinson  \n",
       "4          Come back to bed by Trent Tomlinson  "
      ]
     },
     "execution_count": 1,
     "metadata": {},
     "output_type": "execute_result"
    }
   ],
   "source": [
    "import pandas as pd\n",
    "\n",
    "from data import DataLoader\n",
    "\n",
    "songs = DataLoader.load()\n",
    "df = pd.DataFrame(songs)\n",
    "df.head()"
   ]
  },
  {
   "cell_type": "markdown",
   "metadata": {
    "pycharm": {
     "name": "#%% md\n"
    }
   },
   "source": [
    "# Inspect the data"
   ]
  },
  {
   "cell_type": "code",
   "execution_count": 139,
   "metadata": {
    "pycharm": {
     "name": "#%%\n"
    }
   },
   "outputs": [
    {
     "name": "stdout",
     "output_type": "stream",
     "text": [
      "<class 'pandas.core.frame.DataFrame'>\n",
      "RangeIndex: 204 entries, 0 to 203\n",
      "Data columns (total 3 columns):\n",
      " #   Column  Non-Null Count  Dtype \n",
      "---  ------  --------------  ----- \n",
      " 0   artist  204 non-null    object\n",
      " 1   lyrics  204 non-null    object\n",
      " 2   name    204 non-null    object\n",
      "dtypes: object(3)\n",
      "memory usage: 4.9+ KB\n"
     ]
    }
   ],
   "source": [
    "df.info()"
   ]
  },
  {
   "cell_type": "markdown",
   "metadata": {
    "pycharm": {
     "name": "#%% md\n"
    }
   },
   "source": [
    "# Clean the data"
   ]
  },
  {
   "cell_type": "code",
   "execution_count": 140,
   "metadata": {
    "pycharm": {
     "name": "#%%\n"
    }
   },
   "outputs": [
    {
     "data": {
      "text/html": [
       "<div>\n",
       "<style scoped>\n",
       "    .dataframe tbody tr th:only-of-type {\n",
       "        vertical-align: middle;\n",
       "    }\n",
       "\n",
       "    .dataframe tbody tr th {\n",
       "        vertical-align: top;\n",
       "    }\n",
       "\n",
       "    .dataframe thead th {\n",
       "        text-align: right;\n",
       "    }\n",
       "</style>\n",
       "<table border=\"1\" class=\"dataframe\">\n",
       "  <thead>\n",
       "    <tr style=\"text-align: right;\">\n",
       "      <th></th>\n",
       "      <th>artist</th>\n",
       "      <th>lyrics</th>\n",
       "      <th>name</th>\n",
       "      <th>lyrics_cleaned</th>\n",
       "      <th>words</th>\n",
       "    </tr>\n",
       "  </thead>\n",
       "  <tbody>\n",
       "    <tr>\n",
       "      <th>0</th>\n",
       "      <td>Trent Tomlinson</td>\n",
       "      <td>It was perfect timin'\\nBoth of us findin' what...</td>\n",
       "      <td>A Good Run by Trent Tomlinson</td>\n",
       "      <td>perfect timin us findin needed blind love driv...</td>\n",
       "      <td>[perfect, timin, us, findin, needed, blind, lo...</td>\n",
       "    </tr>\n",
       "    <tr>\n",
       "      <th>1</th>\n",
       "      <td>Trent Tomlinson</td>\n",
       "      <td>Twenty-five just yesterday\\nPartied too hard, ...</td>\n",
       "      <td>A Man Without A Woman by Trent Tomlinson</td>\n",
       "      <td>twentyfive yesterday partied hard slept late p...</td>\n",
       "      <td>[twentyfive, yesterday, partied, hard, slept, ...</td>\n",
       "    </tr>\n",
       "    <tr>\n",
       "      <th>2</th>\n",
       "      <td>Trent Tomlinson</td>\n",
       "      <td>The sunbeam hit the Jim Beam\\nAnd ricocheted o...</td>\n",
       "      <td>Angels Like Her by Trent Tomlinson</td>\n",
       "      <td>sunbeam hit jim beam ricocheted bottle coke cu...</td>\n",
       "      <td>[sunbeam, hit, jim, beam, ricocheted, bottle, ...</td>\n",
       "    </tr>\n",
       "    <tr>\n",
       "      <th>3</th>\n",
       "      <td>Trent Tomlinson</td>\n",
       "      <td>I still show up at five\\nLet everybody know I'...</td>\n",
       "      <td>Cheatin On My Honky-Tonk by Trent Tomlinson</td>\n",
       "      <td>still show five let everybody know ive arrived...</td>\n",
       "      <td>[still, show, five, let, everybody, know, ive,...</td>\n",
       "    </tr>\n",
       "    <tr>\n",
       "      <th>4</th>\n",
       "      <td>Trent Tomlinson</td>\n",
       "      <td>Baby I don't care that your hair is soakin' we...</td>\n",
       "      <td>Come back to bed by Trent Tomlinson</td>\n",
       "      <td>baby dont care hair soakin wet drop towel floo...</td>\n",
       "      <td>[baby, dont, care, hair, soakin, wet, drop, to...</td>\n",
       "    </tr>\n",
       "  </tbody>\n",
       "</table>\n",
       "</div>"
      ],
      "text/plain": [
       "            artist                                             lyrics  \\\n",
       "0  Trent Tomlinson  It was perfect timin'\\nBoth of us findin' what...   \n",
       "1  Trent Tomlinson  Twenty-five just yesterday\\nPartied too hard, ...   \n",
       "2  Trent Tomlinson  The sunbeam hit the Jim Beam\\nAnd ricocheted o...   \n",
       "3  Trent Tomlinson  I still show up at five\\nLet everybody know I'...   \n",
       "4  Trent Tomlinson  Baby I don't care that your hair is soakin' we...   \n",
       "\n",
       "                                          name  \\\n",
       "0                A Good Run by Trent Tomlinson   \n",
       "1     A Man Without A Woman by Trent Tomlinson   \n",
       "2           Angels Like Her by Trent Tomlinson   \n",
       "3  Cheatin On My Honky-Tonk by Trent Tomlinson   \n",
       "4          Come back to bed by Trent Tomlinson   \n",
       "\n",
       "                                      lyrics_cleaned  \\\n",
       "0  perfect timin us findin needed blind love driv...   \n",
       "1  twentyfive yesterday partied hard slept late p...   \n",
       "2  sunbeam hit jim beam ricocheted bottle coke cu...   \n",
       "3  still show five let everybody know ive arrived...   \n",
       "4  baby dont care hair soakin wet drop towel floo...   \n",
       "\n",
       "                                               words  \n",
       "0  [perfect, timin, us, findin, needed, blind, lo...  \n",
       "1  [twentyfive, yesterday, partied, hard, slept, ...  \n",
       "2  [sunbeam, hit, jim, beam, ricocheted, bottle, ...  \n",
       "3  [still, show, five, let, everybody, know, ive,...  \n",
       "4  [baby, dont, care, hair, soakin, wet, drop, to...  "
      ]
     },
     "execution_count": 140,
     "metadata": {},
     "output_type": "execute_result"
    }
   ],
   "source": [
    "import re\n",
    "import string\n",
    "from nltk.corpus import stopwords\n",
    "stopwords = stopwords.words('english')\n",
    "\n",
    "def clean(text):\n",
    "    lowered_no_punc = text.lower()\\\n",
    "        .translate(str.maketrans('', '', string.punctuation))\n",
    "    no_number_string = re.sub(r'\\d+','',lowered_no_punc)\n",
    "    no_stopwords = ' '.join([w for w in no_number_string.split() if w not in stopwords])\n",
    "    return no_stopwords.replace('’','')\n",
    "\n",
    "df['lyrics_cleaned'] = df['lyrics'].apply(clean)\n",
    "df['words'] = df['lyrics_cleaned'].apply(lambda x: x.split())\n",
    "df.head()"
   ]
  },
  {
   "cell_type": "markdown",
   "metadata": {
    "pycharm": {
     "name": "#%% md\n"
    }
   },
   "source": [
    "# Calculate Tf-Idf"
   ]
  },
  {
   "cell_type": "code",
   "execution_count": 141,
   "metadata": {
    "pycharm": {
     "name": "#%%\n"
    }
   },
   "outputs": [
    {
     "data": {
      "text/plain": [
       "artist\n",
       "Bad Meets Evil    [{'verse': 0.0006426393435547508, 'eminem': 0....\n",
       "D12               [{'intro': 0.0008600857018970892, 'bizarre': 0...\n",
       "Daya              [{'verse': 0.00045987427699171, 'rules': 0.005...\n",
       "Eminem            [{'hit': 0.0056848572667433945, 'em': 0.005684...\n",
       "Evanescence       [{'shower': 0.010869565217391304, 'dark': 0.01...\n",
       "dtype: object"
      ]
     },
     "execution_count": 141,
     "metadata": {},
     "output_type": "execute_result"
    }
   ],
   "source": [
    "from tf_idf import TfIdf\n",
    "\n",
    "def apply_tfidf(df):\n",
    "    return TfIdf.compute_tfidf(df['words'].values)\n",
    "\n",
    "tfidf = df[['words', 'artist']]\\\n",
    "    .groupby('artist').apply(apply_tfidf)\n",
    "tfidf.head()"
   ]
  },
  {
   "cell_type": "markdown",
   "metadata": {
    "pycharm": {
     "name": "#%% md\n"
    }
   },
   "source": [
    "# Analyze Tf-Idf"
   ]
  },
  {
   "cell_type": "code",
   "execution_count": 142,
   "metadata": {
    "pycharm": {
     "name": "#%%\n"
    }
   },
   "outputs": [
    {
     "data": {
      "text/plain": [
       "{'Bad Meets Evil': [['yo', 'lesson', 'yall', 'youll', 'breathing'],\n",
       "  ['poor', 'claret', 'jai', 'rich', 'richer'],\n",
       "  ['kiss', 'want', 'sucking', 'female', 'nina'],\n",
       "  ['‘cause', 'moment', 'wake', 'day', 'opponents'],\n",
       "  ['unavailableembedshare', 'urlcopyembedcopy'],\n",
       "  ['meets', 'emcees', 'evil', 'scare', 'seuss'],\n",
       "  ['echo', 'callin', 'follow', 'liz', 'rodrigues'],\n",
       "  ['pedal', 'livin', 'fast', 'lane', 'metal'],\n",
       "  ['everything', 'painkillers', 'syrup', 'hennessy', 'cigarette'],\n",
       "  ['holdin', 'vest', 'second', 'nigga', 'wack']],\n",
       " 'D12': [['hundred', 'keep', 'kidd', 'riding', 'start'],\n",
       "  ['waiting', 'artists', 'lyricsembedshare', 'urlcopyembedcopy'],\n",
       "  ['‘em', 'mase', 'bank', 'moe', 'young'],\n",
       "  ['pour', 'guzzle', 'club', 'wild', 'mother@*#!er'],\n",
       "  ['mother@*#!ers', 'sing', 'along', 'words', 'morning'],\n",
       "  ['dozen', 'rolling', 'dirty', 'leave', 'kids'],\n",
       "  ['aiyyo', 'anybody', 'yo', '@*#!in', 'play'],\n",
       "  ['journey', 'psychopath', 'spiller', 'blood', 'mentality'],\n",
       "  ['@*#!ing', 'psycho', 'breal', 'insane', 'chain'],\n",
       "  ['woulda', 'jeff', 'bass', 'service', 'announcement']],\n",
       " 'Daya': [['allowed', 'im', 'fragile', 'broken', 'doubtful'],\n",
       "  ['alright', 'ive', 'even', 'tonight', 'light'],\n",
       "  ['back', 'pulling', 'pull', 'ever', 'never'],\n",
       "  ['bad', 'girl', 'need', 'boys', 'cut'],\n",
       "  ['bad', 'girl', 'boys', 'cut', 'need'],\n",
       "  ['catalogue', 'management', 'product', 'information', 'business'],\n",
       "  ['cruise', 'nananananananana', 'cool', 'lets', 'keep'],\n",
       "  ['credit', 'taking', 'get', 'finally', 'im'],\n",
       "  ['dare', 'everything', 'lose', 'move', 'prove'],\n",
       "  ['ohooh', 'evil', 'hey', 'darkness', 'sun']],\n",
       " 'Eminem': [['ft', 'dre', 'outlawz', 'fe', 'yz'],\n",
       "  ['revival', 'doctor', 'medication', 'intended', 'serious'],\n",
       "  ['wit', 'secret', 'message', 'word', 'search'],\n",
       "  ['battle', 'rap', 'ima', '@*#!in', 'ya'],\n",
       "  ['broke', 'rubber', 'busted', 'another', 'brother'],\n",
       "  ['feeling', 'shady', 'leave', 'eyes', 'met'],\n",
       "  ['ya', 'yo', 'niggas', 'proof', 'stat'],\n",
       "  ['sock', 'less', 'stuck', 'two', 'lot'],\n",
       "  ['game', 'bang', 'think', 'royce', 'write'],\n",
       "  ['chase', 'twentyfive', 'late', 'caught', 'life']],\n",
       " 'Evanescence': [['heard', 'saw', 'th', 'thought', 'wind'],\n",
       "  ['gonna', 'jai', 'guru', 'nothings', 'deva'],\n",
       "  ['living', 'im', 'wanted', 'dying', 'ignore'],\n",
       "  ['wanted', 'living', 'lock', 'last', 'door'],\n",
       "  ['coming', 'slave', 'new', 'freedom', 'still'],\n",
       "  ['coming', 'slave', 'new', 'freedom', 'still'],\n",
       "  ['anything', 'ill', 'lies', 'pretend', 'close'],\n",
       "  ['yeah', 'dont', 'leaving', 'tonight', 'anyone'],\n",
       "  ['go', 'part', 'always', 'turn', 'back'],\n",
       "  ['instrumental', 'track', 'goodbye', 'son', 'nice']],\n",
       " 'Fleetwood Mac': [['loved', 'well', 'better', 'set', 'never'],\n",
       "  ['fool', 'packed', 'clothes', 'moving', 'door'],\n",
       "  ['fool', 'packed', 'clothes', 'moving', 'door'],\n",
       "  [],\n",
       "  ['spoken', 'two', 'three', 'four', 'instrumental'],\n",
       "  ['id', 'spite', 'heartaches', 'troubles', 'say'],\n",
       "  ['mama', 'got', 'girl', 'low', 'show'],\n",
       "  ['theres', 'itll', 'although', 'sun', 'shining'],\n",
       "  ['yeah', 'dreams', 'ghost', 'fog', 'try'],\n",
       "  ['want', 'angel', 'see', 'really', 'oh']],\n",
       " 'Hurts': [['rosy', 'affair', 'little', 'stay', 'heart'],\n",
       "  ['give', 'might', 'knows', 'staring', 'mirror'],\n",
       "  ['christmas', 'year', 'bells', 'ringing', 'new'],\n",
       "  ['beautiful', 'ones', 'desperate', 'ohh', 'put'],\n",
       "  ['turn', 'lights', 'feels', 'love', 'better'],\n",
       "  ['cut', 'leave', 'blind', 'eyes', 'every'],\n",
       "  ['blood', 'tears', 'gold', 'baby', 'never'],\n",
       "  ['ooh', 'teach', 'boyfriend', 'moves', 'needs'],\n",
       "  ['run', 'go', 'told', 'would', 'ill'],\n",
       "  ['confide', 'cross', 'bear', 'name', 'understanding']],\n",
       " 'Monty': [['damn', 'zoovy', 'zoo', 'dont', 'hit'],\n",
       "  ['games', 'play', 'night', 'shawty', 'tryna'],\n",
       "  ['its', 'grandsons', 'plea', 'heal', 'tragedy'],\n",
       "  ['niggas', 'worried', 'next', 'upset', 'round'],\n",
       "  ['assets', 'bad', 'thats', 'bitch', 'got'],\n",
       "  ['mama', 'commas', 'lil', 'plenty', 'hotter'],\n",
       "  ['big', 'city', 'nights', 'unexpected', 'xsix'],\n",
       "  ['lover', 'wanna', 'weve', 'wanted', 'taste'],\n",
       "  ['ayy', 'hood', 'see', 'cashgreen', 'inside'],\n",
       "  ['enough', 'dying', 'hoping', 'crutch', 'strong']],\n",
       " 'Mr. President': [['floor', 'dance', 'alrigt', 'boredom', 'outta'],\n",
       "  ['wanna', 'time', 'mistakes', 'said', 'used'],\n",
       "  ['put', 'jambo', 'ayyayaya', 'coco', 'ayyayai'],\n",
       "  ['ya', 'put', 'ye', 'coco', 'jamboo'],\n",
       "  ['put', 'jambo', 'coco', 'ayyayaya', 'ayyayai'],\n",
       "  ['stop', 'ever', 'youll', 'know', 'never'],\n",
       "  ['dance', 'everybody', 'chance', 'cmon', 'theyre'],\n",
       "  ['fbi', 'vice', 'don´t', 'fire', 'burning'],\n",
       "  ['little', 'love', 'give', 'gonna', 'piece'],\n",
       "  ['along', 'without', 'ya', 'gonna', 'aha']],\n",
       " 'No Doubt': [['feel', 'pain', 'ahh', 'ooo', 'tremendous'],\n",
       "  ['full', 'oh', 'last', 'really', 'yeah'],\n",
       "  ['steady', 'rock', 'survives', 'vibe', 'love'],\n",
       "  ['rock', 'steady', 'survives', 'vibe', 'love'],\n",
       "  ['artificial', 'sweetener', 'faking', 'yous', 'forcing'],\n",
       "  ['love', 'wash', 'old', 'bathwater', 'couldnt'],\n",
       "  ['love', 'wash', 'old', 'bathwater', 'couldnt'],\n",
       "  ['beauty', 'contest', 'obsessed', 'mess', 'vanity'],\n",
       "  ['come', 'na', 'train', 'waiting', 'youll'],\n",
       "  ['lives', 'wrong', 'shipwrecked', 'situation', 'foolish']],\n",
       " 'Palastic': [['going', 'history', 'city', 'lights', 'burning'],\n",
       "  ['take', 'chances', 'hesitate', 'cross', 'faith'],\n",
       "  ['maneater', 'manneeder', 'trust', 'either', 'eat'],\n",
       "  ['far', 'long', 'next', 'feel', 'wish'],\n",
       "  ['ah', 'didnt', 'uh', 'solve', 'would'],\n",
       "  ['easier', 'someone', 'life', 'somebody', 'love'],\n",
       "  ['lying', 'sun', 'lets', 'yeah', 'go'],\n",
       "  ['run', 'wanna', 'anywhere', 'place', 'away'],\n",
       "  ['pedal', 'metal', 'fcking', 'highway', 'imma'],\n",
       "  ['let', 'wolves', 'still', 'control', 'though']],\n",
       " 'Robbie Williams': [['loaded', 'sixteen', 'tons', 'whaddya', 'older'],\n",
       "  ['child', 'tonight', 'year', 'river', 'good'],\n",
       "  ['working', 'five', 'modern', 'nine', 'girl'],\n",
       "  ['advertising', 'space', 'learned', 'prophets', 'waste'],\n",
       "  ['kick', 'aint', 'said', 'head', 'fella'],\n",
       "  ['climb', 'oh', 'whatever', 'love', 'scared'],\n",
       "  ['dress', 'want', 'pick', 'carry', 'heart'],\n",
       "  ['alone', 'safe', 'seasons', 'leaves', 'villains'],\n",
       "  ['ha', 'ah', 'yeah', 'oh', 'bananas'],\n",
       "  ['lovin', 'angels', 'love', 'wont', 'instead']],\n",
       " 'Simon & Garfunkel': [['ways', 'need', 'get', 'leave', 'lover'],\n",
       "  ['holy', 'heavenly', 'peace', 'chicago', 'war'],\n",
       "  ['hands', 'praying', 'church', 'burning', 'flames'],\n",
       "  ['hands', 'praying', 'church', 'burning', 'flames'],\n",
       "  ['around', 'leaves', 'brown', 'look', 'hazy'],\n",
       "  ['around', 'leaves', 'brown', 'look', 'hazy'],\n",
       "  ['york', 'heart', 'new', 'door', 'tall'],\n",
       "  ['dream', 'dreaeaeaeaeam', 'want', 'whenever', 'need'],\n",
       "  ['america', 'verse', 'said', 'kathy', 'one'],\n",
       "  ['right', 'dreamed', 'still', 'far', 'home']],\n",
       " 'Snoop Dogg': [['gangsta', 'eastside', 'lot', 'hook', 'whole'],\n",
       "  ['mama', 'burnt', 'blunted', 'fa', 'cert'],\n",
       "  ['blaze', 'stays', 'act', 'enough', 'said'],\n",
       "  ['crowd', 'bounce', 'whole', 'yall', 'keep'],\n",
       "  ['dollars', 'weed', 'name', 'drugs', 'gan'],\n",
       "  ['minutes', 'goldie', 'holla', 'caus', 'fos'],\n",
       "  ['nobody', 'tray', 'deee', 'ha', 'east'],\n",
       "  ['niggas', 'cuh', 'rollin', 'dressed', 'good'],\n",
       "  ['dig', 'tim', 'spielberg', 'playas', 'famous'],\n",
       "  ['yet', 'still', 'think', 'fall', 'rich']],\n",
       " 'Sting': [['every', 'sing', 'reflecting', 'one', 'voices'],\n",
       "  ['thee', 'sweet', 'infant', 'smiles', 'sleep'],\n",
       "  ['read', 'news', 'oh', 'boy', 'holes'],\n",
       "  ['extract', 'letter', 'sir', 'robert', 'cecilembedshare'],\n",
       "  ['take', 'rain', 'tears', 'washed', 'eyes'],\n",
       "  ['baby', 'four', 'seasons', 'day', 'summer'],\n",
       "  ['river', 'flowed', 'one', 'endlessly', 'two'],\n",
       "  ['yeah', 'river', 'eeyeah', 'one', 'gideon'],\n",
       "  ['would', 'envy', 'soon', 'clock', 'ticking'],\n",
       "  ['would', 'envy', 'soon', 'clock', 'ticking']],\n",
       " 'The Parakit': [['nirvana', 'baby', 'purify', 'make', 'body'],\n",
       "  ['save', 'shoot', 'blow', 'kill', 'erev'],\n",
       "  ['deep', 'happy', 'hold', 'youre', 'standing'],\n",
       "  ['without', 'live', 'love', '—', 'alden']],\n",
       " 'The Rasmus': [['long', 'picture', 'took', 'back', 'wonder'],\n",
       "  ['black', 'days', 'oh', 'old', 'around'],\n",
       "  ['resting', 'blue', 'follow', 'mind', 'though'],\n",
       "  ['every', 'touch', 'darkness', 'grips', 'bones'],\n",
       "  ['fire', 'bullet', 'break', 'burn', 'convert'],\n",
       "  ['need', 'shotgun', 'swallow', 'meaning', 'feel'],\n",
       "  ['n', 'band', 'always', 'go', 'groove'],\n",
       "  ['painted', 'room', 'leaving', 'every', 'thought'],\n",
       "  ['city', 'aint', 'gonna', 'glad', 'nevermind'],\n",
       "  ['crystalline', 'gonna', 'rivers', 'set', 'us']],\n",
       " 'The Subways': [['nothing', 'something', 'go', 'days', 'love'],\n",
       "  ['alright', 'another', 'find', 'chance', 'day'],\n",
       "  ['find', 'alright', 'another', 'day', 'say'],\n",
       "  ['find', 'alright', 'another', 'day', 'say'],\n",
       "  ['find', 'alright', 'another', 'day', 'say'],\n",
       "  ['find', 'alright', 'another', 'day', 'say'],\n",
       "  ['ah', 'always', 'fine', 'onto', 'sorrow'],\n",
       "  ['come', 'else', 'nothing', 'something', 'sin'],\n",
       "  ['lost', 'oh', 'plain', 'gun', 'im'],\n",
       "  ['sit', 'watch', 'children', 'tears', 'go']],\n",
       " 'Three Days Grace': [['animal', 'help', 'somebody', 'become', 'its'],\n",
       "  ['animal', 'help', 'somebody', 'become', 'real'],\n",
       "  ['questo', 'animale', 'che', 'non', 'da'],\n",
       "  ['hello', 'anonymous', 'conscience', 'shutting', 'mind'],\n",
       "  ['ready', 'said', 'sit', 'shut', 'restrain'],\n",
       "  ['long', 'erased', 'escaped', 'taste', 'name'],\n",
       "  ['yeah', 'oh', 'ooh', 'black', 'tattooed'],\n",
       "  ['stole', 'born', 'took', 'someones', 'god'],\n",
       "  ['higher', 'break', 'places', 'away', 'tonight'],\n",
       "  ['cut', 'gonna', 'forever', 'thrown', 'floor']],\n",
       " 'Trent Tomlinson': [['run', 'sure', 'good', 'end', 'went'],\n",
       "  ['without', 'thats', 'man', 'woman', 'lonely'],\n",
       "  ['higher', 'straight', 'took', 'angels', 'send'],\n",
       "  ['cheatin', 'honkytonk', 'im', 'noone', 'doin'],\n",
       "  ['come', 'bed', 'back', 'lovin', 'yet'],\n",
       "  ['country', 'give', 'rock', 'hagg', 'possible'],\n",
       "  ['cry', 'baby', 'hold', 'ill', 'every'],\n",
       "  ['blow', 'cover', 'dont', 'heart', 'know'],\n",
       "  ['whos', 'drunker', 'worryin', 'keys', 'phone'],\n",
       "  ['dust', 'shouldve', 'mm', 'kicked', 'hammer']],\n",
       " 'Xzibit': [['supposed', 'were', 'niggers', 'wanted', 'shot'],\n",
       "  ['supposed', '‘cause', 'were', 'shot', 'theyre'],\n",
       "  ['wyclef', 'thug', 'new', 'bout', 'third'],\n",
       "  ['wyclef', 'thug', 'new', 'bout', 'third'],\n",
       "  ['card', 'pull', 'golden', 'state', 'bet'],\n",
       "  ['alkaholik', 'extras', '@*#!ing', 'want', 'sermon'],\n",
       "  ['burned', 'town', 'neighbor', 'save', 'done'],\n",
       "  ['speed', 'movin', 'rock', 'stood', 'respect'],\n",
       "  ['wit', 'ya', 'outta', 'xman', 'hook'],\n",
       "  ['wont', 'wastin', 'radio', 'dogg', 'wait']]}"
      ]
     },
     "execution_count": 142,
     "metadata": {},
     "output_type": "execute_result"
    }
   ],
   "source": [
    "top10 = {} # top10 words for each song for each artist\n",
    "def sort_by_value(x):\n",
    "    return dict(sorted(x.items(), key=lambda item: item[1], reverse=True))\n",
    "for artist in tfidf.index:\n",
    "    top10[artist] = []\n",
    "    for song_tfidf in tfidf[artist]:\n",
    "        top_words = list(sort_by_value(song_tfidf).items())[:5]\n",
    "        def hide_illegal(w):\n",
    "            return w.replace('fuck', '@*#!')\n",
    "        top_words = [hide_illegal(w) for w,_ in top_words]\n",
    "        top10[artist].append(top_words)\n",
    "top10"
   ]
  },
  {
   "cell_type": "code",
   "execution_count": 143,
   "metadata": {
    "pycharm": {
     "name": "#%%\n"
    }
   },
   "outputs": [],
   "source": [
    "top10_per_artist = {}\n",
    "for artist in top10:\n",
    "    cnt = {}\n",
    "    for song in top10[artist]:\n",
    "        for word in song:\n",
    "            cnt[word] = cnt.get(word, 1) + 1\n",
    "    cnt = sort_by_value(cnt)\n",
    "    cnt = list(cnt.items())[:10]\n",
    "    words = [w for w,_  in cnt]\n",
    "    top10_per_artist[artist] = words"
   ]
  },
  {
   "cell_type": "code",
   "execution_count": 145,
   "metadata": {
    "pycharm": {
     "name": "#%%\n"
    }
   },
   "outputs": [
    {
     "data": {
      "text/plain": [
       "{'Daya': {'Simon & Garfunkel': {'need'}},\n",
       " 'Eminem': {'Mr. President': {'ya'}},\n",
       " 'Evanescence': {'Xzibit': {'new', 'wanted'}},\n",
       " 'Mr. President': {'Eminem': {'ya'}, 'The Rasmus': {'gonna'}},\n",
       " 'No Doubt': {'Robbie Williams': {'love'}, 'The Subways': {'love'}},\n",
       " 'Palastic': {'Simon & Garfunkel': {'burning'}},\n",
       " 'Robbie Williams': {'No Doubt': {'love'},\n",
       "  'The Rasmus': {'oh'},\n",
       "  'The Subways': {'love'}},\n",
       " 'Simon & Garfunkel': {'Daya': {'need'}, 'Palastic': {'burning'}},\n",
       " 'Sting': {'The Rasmus': {'every'}},\n",
       " 'The Rasmus': {'Mr. President': {'gonna'},\n",
       "  'Robbie Williams': {'oh'},\n",
       "  'Sting': {'every'},\n",
       "  'The Subways': {'days'}},\n",
       " 'The Subways': {'No Doubt': {'love'},\n",
       "  'Robbie Williams': {'love'},\n",
       "  'The Rasmus': {'days'}},\n",
       " 'Xzibit': {'Evanescence': {'new', 'wanted'}}}"
      ]
     },
     "execution_count": 145,
     "metadata": {},
     "output_type": "execute_result"
    }
   ],
   "source": [
    "intersection = {}\n",
    "for artist1 in top10_per_artist:\n",
    "    intersection[artist1] = {}\n",
    "    for artist2 in top10_per_artist:\n",
    "        if artist2 == artist1:\n",
    "            continue\n",
    "        x = set(top10_per_artist[artist1])\\\n",
    "            .intersection(set(top10_per_artist[artist2]))\n",
    "        if len(x) > 0:\n",
    "            intersection[artist1][artist2] = x\n",
    "    if len(intersection[artist1].keys()) == 0:\n",
    "        intersection.pop(artist1, None)\n",
    "intersection"
   ]
  },
  {
   "cell_type": "code",
   "execution_count": 144,
   "metadata": {
    "pycharm": {
     "name": "#%%\n"
    }
   },
   "outputs": [],
   "source": []
  }
 ],
 "metadata": {
  "kernelspec": {
   "display_name": "Python 3 (ipykernel)",
   "language": "python",
   "name": "python3"
  },
  "language_info": {
   "codemirror_mode": {
    "name": "ipython",
    "version": 3
   },
   "file_extension": ".py",
   "mimetype": "text/x-python",
   "name": "python",
   "nbconvert_exporter": "python",
   "pygments_lexer": "ipython3",
   "version": "3.10.0"
  }
 },
 "nbformat": 4,
 "nbformat_minor": 1
}
